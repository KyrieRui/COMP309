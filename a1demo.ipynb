{
 "cells": [
  {
   "cell_type": "code",
   "execution_count": 1,
   "metadata": {},
   "outputs": [],
   "source": [
    "import matplotlib.pyplot as plt\n",
    "import pandas as pd\n",
    "import numpy as np\n",
    "import numpy.random as rng\n",
    "from scipy.io import arff"
   ]
  },
  {
   "cell_type": "code",
   "execution_count": 2,
   "metadata": {},
   "outputs": [],
   "source": [
    "data = arff.loadarff('steel-plates-fault.arff')\n",
    "df = pd.DataFrame(data[0])\n",
    "da = df.to_numpy()\n",
    "\n",
    "x = da[:, :-1]\n",
    "y = da[:, -1]"
   ]
  },
  {
   "cell_type": "code",
   "execution_count": 3,
   "metadata": {},
   "outputs": [
    {
     "data": {
      "image/png": "[encoded data removed]",
      "text/plain": [
       "<Figure size 432x288 with 1 Axes>"
      ]
     },
     "metadata": {
      "needs_background": "light"
     },
     "output_type": "display_data"
    }
   ],
   "source": [
    "from matplotlib import pyplot as plt\n",
    "from numpy import average\n",
    "from sklearn.metrics import accuracy_score\n",
    "from sklearn.model_selection import train_test_split\n",
    "from sklearn.neighbors import KNeighborsClassifier\n",
    "from sklearn import preprocessing\n",
    "\n",
    "knn_steelplate_accuracy_list=[]\n",
    "neighbor_value = [1,2,3,4,5]\n",
    "\n",
    "for n in neighbor_value:\n",
    "    for i in range(50):\n",
    "        X_train, X_test, y_train, y_test = train_test_split( x, y, test_size=0.5, random_state=i)\n",
    "\n",
    "        y_train=y_train.astype('str') # convert to string\n",
    "        y_test = y_test.astype('str') # convert to string\n",
    "        \n",
    "        \n",
    "        knn = KNeighborsClassifier(n_neighbors=n)\n",
    "        knn.fit(X_train, y_train)     \n",
    "        pre_y = knn.predict(X_test)\n",
    "\n",
    "        knn_steelplate_accuracy = accuracy_score(y_test, pre_y)\n",
    "        knn_steelplate_accuracy_list.append(knn_steelplate_accuracy)\n",
    "\n",
    "\n",
    "knn_steelplate_accuracy_final = pd.DataFrame( { '1': knn_steelplate_accuracy_list[0:50], \n",
    "                                            '2': knn_steelplate_accuracy_list[50:100], \n",
    "                                            '3': knn_steelplate_accuracy_list[100:150], \n",
    "                                            '4': knn_steelplate_accuracy_list[150:200], \n",
    "                                            '5': knn_steelplate_accuracy_list[200:250] } )\n",
    "\n",
    "plt.title(\"steel-plates-fault\") \n",
    "plt.boxplot(knn_steelplate_accuracy_final)\n",
    "plt.show()\n",
    "    "
   ]
  },
  {
   "cell_type": "code",
   "execution_count": 12,
   "metadata": {},
   "outputs": [
    {
     "data": {
      "image/png": "[encoded data removed]",
      "text/plain": [
       "<Figure size 432x288 with 1 Axes>"
      ]
     },
     "metadata": {
      "needs_background": "light"
     },
     "output_type": "display_data"
    }
   ],
   "source": [
    "from sklearn.naive_bayes import GaussianNB\n",
    "\n",
    "gnb_steelplate_accuracy_list = []\n",
    "\n",
    "gnb_neighbor_value = [1e-9,1e-5,1e-1]\n",
    "for n in gnb_neighbor_value:\n",
    "    for i in range(50):\n",
    "        X_train, X_test, y_train, y_test = train_test_split(x, y, test_size=0.5, random_state=i)\n",
    "        y_train=y_train.astype('str') # convert to string\n",
    "        y_test = y_test.astype('str') # convert to string\n",
    "        gnb = GaussianNB()\n",
    "        y_pred = gnb.fit(X_train, y_train).predict(X_test)\n",
    "\n",
    "        gnb_steelplate_accuracy = accuracy_score(y_test, pre_y)\n",
    "        gnb_steelplate_accuracy_list.append(gnb_steelplate_accuracy)\n",
    "        \n",
    "# gnb_steelplate_accuracy_list\n",
    "gnb_steelplate_accuracy_final = pd.DataFrame( { '1': gnb_steelplate_accuracy_list[0:50], \n",
    "                                            '2': gnb_steelplate_accuracy_list[50:100], \n",
    "                                            '3': gnb_steelplate_accuracy_list[100:150], } )\n",
    "\n",
    "plt.title(\"steel-plates-fault\") \n",
    "plt.boxplot(gnb_steelplate_accuracy_final)\n",
    "plt.show()\n"
   ]
  },
  {
   "cell_type": "code",
   "execution_count": 23,
   "metadata": {},
   "outputs": [
    {
     "data": {
      "image/png": "[encoded data removed]",
      "text/plain": [
       "<Figure size 432x288 with 1 Axes>"
      ]
     },
     "metadata": {
      "needs_background": "light"
     },
     "output_type": "display_data"
    }
   ],
   "source": [
    "#LogisticRegression\n",
    "from sklearn.linear_model import LogisticRegression\n",
    "\n",
    "lr_steelplate_accuracy_list = []\n",
    "lr_neighbor_value = [0.1,0.5,1.0,2.0,5.0]\n",
    "\n",
    "for n in lr_neighbor_value:\n",
    "    for i in range(50):\n",
    "        \n",
    "        y=y.astype('str') # convert to string\n",
    "       \n",
    "        clf = LogisticRegression(random_state=i).fit(x, y)\n",
    "        y_pred = clf.predict(x)\n",
    "        lr_steelplate_accuracy = accuracy_score(y, y_pred)\n",
    "        lr_steelplate_accuracy_list.append(lr_steelplate_accuracy)\n",
    "\n",
    "\n",
    "lr_steelplate_accuracy_final = pd.DataFrame( { '1': lr_steelplate_accuracy_list[0:50], \n",
    "                                            '2': lr_steelplate_accuracy_list[50:100], \n",
    "                                            '3': lr_steelplate_accuracy_list[100:150], \n",
    "                                            '4': lr_steelplate_accuracy_list[150:200], \n",
    "                                            '5': lr_steelplate_accuracy_list[200:250] } )\n",
    "\n",
    "plt.title(\"steel-plates-fault\") \n",
    "plt.boxplot(lr_steelplate_accuracy_final)\n",
    "plt.show()\n",
    "     \n",
    "\n"
   ]
  },
  {
   "cell_type": "code",
   "execution_count": 41,
   "metadata": {},
   "outputs": [],
   "source": [
    "#DecisionTreeClassifier\n",
    "from sklearn.tree import DecisionTreeClassifier\n",
    "from sklearn.tree import export_text\n",
    "\n",
    "dtc_steelplate_accuracy_list = []\n",
    "dtc_neighbor_value = [1,3,5,8,10]\n",
    "\n",
    "for n in dtc_neighbor_value:\n",
    "    for i in range(50):\n",
    "        X_train, X_test, y_train, y_test = train_test_split(x, y, test_size=0.5, random_state=i)\n",
    "        \n",
    "        clf = DecisionTreeClassifier(max_leaf_nodes=n, random_state=i)\n",
    "        # clf.fit(X_train, y_train)\n",
    "\n"
   ]
  }
 ],
 "metadata": {
  "kernelspec": {
   "display_name": "Python 3 (ipykernel)",
   "language": "python",
   "name": "python3"
  },
  "language_info": {
   "codemirror_mode": {
    "name": "ipython",
    "version": 3
   },
   "file_extension": ".py",
   "mimetype": "text/x-python",
   "name": "python",
   "nbconvert_exporter": "python",
   "pygments_lexer": "ipython3",
   "version": "3.9.12"
  },
  "vscode": {
   "interpreter": {
    "hash": "01e2ebfe709c91220c6761f6a75a27ea523aae49077963216e9a436be31287e9"
   }
  }
 },
 "nbformat": 4,
 "nbformat_minor": 2
}
