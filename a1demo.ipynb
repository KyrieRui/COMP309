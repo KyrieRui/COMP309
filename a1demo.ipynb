{
 "cells": [
  {
   "cell_type": "code",
   "execution_count": 6,
   "metadata": {},
   "outputs": [],
   "source": [
    "import matplotlib.pyplot as plt\n",
    "import pandas as pd\n",
    "import numpy as np\n",
    "import numpy.random as rng\n",
    "from scipy.io import arff"
   ]
  },
  {
   "cell_type": "code",
   "execution_count": 7,
   "metadata": {},
   "outputs": [],
   "source": [
    "data = arff.loadarff('steel-plates-fault.arff')\n",
    "df = pd.DataFrame(data[0])\n",
    "da = df.to_numpy()\n",
    "\n",
    "x = da[:, :-1]\n",
    "y = da[:, -1]"
   ]
  },
  {
   "cell_type": "code",
   "execution_count": 9,
   "metadata": {},
   "outputs": [
    {
     "data": {
      "image/png": "[encoded data removed]",
      "text/plain": [
       "<Figure size 432x288 with 1 Axes>"
      ]
     },
     "metadata": {
      "needs_background": "light"
     },
     "output_type": "display_data"
    }
   ],
   "source": [
    "from matplotlib import pyplot as plt\n",
    "from numpy import average\n",
    "from sklearn.metrics import accuracy_score\n",
    "from sklearn.model_selection import train_test_split\n",
    "from sklearn.neighbors import KNeighborsClassifier\n",
    "from sklearn import preprocessing\n",
    "\n",
    "steelplate_accuracy_list=[]\n",
    "neighbor_value = [1,2,3,4,5]\n",
    "\n",
    "for n in neighbor_value:\n",
    "    for i in range(50):\n",
    "        X_train, X_test, y_train, y_test = train_test_split( x, y, test_size=0.5, random_state=i)\n",
    "\n",
    "        y_train=y_train.astype('str') # convert to string\n",
    "        y_test = y_test.astype('str') # convert to string\n",
    "        \n",
    "        \n",
    "        knn = KNeighborsClassifier(n_neighbors=n)\n",
    "        knn.fit(X_train, y_train)     \n",
    "        pre_y = knn.predict(X_test)\n",
    "\n",
    "        steelplate_accuracy = accuracy_score(y_test, pre_y)\n",
    "        steelplate_accuracy_list.append(steelplate_accuracy)\n",
    "\n",
    "\n",
    "steelplate_accuracy_final = pd.DataFrame( { '1': steelplate_accuracy_list[0:50], \n",
    "                                            '2': steelplate_accuracy_list[50:100], \n",
    "                                            '3': steelplate_accuracy_list[100:150], \n",
    "                                            '4': steelplate_accuracy_list[150:200], \n",
    "                                            '5': steelplate_accuracy_list[200:250] } )\n",
    "\n",
    "plt.title(\"steel-plates-fault\") \n",
    "plt.boxplot(steelplate_accuracy_final)\n",
    "plt.show()\n",
    "    "
   ]
  },
  {
   "cell_type": "code",
   "execution_count": null,
   "metadata": {},
   "outputs": [],
   "source": []
  }
 ],
 "metadata": {
  "kernelspec": {
   "display_name": "Python 3 (ipykernel)",
   "language": "python",
   "name": "python3"
  },
  "language_info": {
   "codemirror_mode": {
    "name": "ipython",
    "version": 3
   },
   "file_extension": ".py",
   "mimetype": "text/x-python",
   "name": "python",
   "nbconvert_exporter": "python",
   "pygments_lexer": "ipython3",
   "version": "3.9.12"
  },
  "vscode": {
   "interpreter": {
    "hash": "01e2ebfe709c91220c6761f6a75a27ea523aae49077963216e9a436be31287e9"
   }
  }
 },
 "nbformat": 4,
 "nbformat_minor": 2
}
